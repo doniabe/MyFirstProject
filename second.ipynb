{
 "cells": [
  {
   "cell_type": "code",
   "execution_count": null,
   "metadata": {},
   "outputs": [],
   "source": [
    "import pandas"
   ]
  },
  {
   "cell_type": "code",
   "execution_count": null,
   "metadata": {},
   "outputs": [
    {
     "name": "stdout",
     "output_type": "stream",
     "text": [
      "apples\n",
      "bananas\n"
     ]
    }
   ],
   "source": [
    "Fruits=[\"apples\",\"oranges\",\"bananas\"]\n",
    "print (Fruits[0])\n",
    "print (Fruits[-1])"
   ]
  },
  {
   "cell_type": "code",
   "execution_count": null,
   "metadata": {},
   "outputs": [
    {
     "name": "stdout",
     "output_type": "stream",
     "text": [
      "['apples', 'Pineapple', 'oranges', 'bananas', 'strawberry', 'strawberry', 'strawberry', 'strawberry']\n",
      "['apples', 'Pineapple', 'oranges', 'bananas', 'strawberry', 'strawberry', 'strawberry', 'strawberry']\n",
      "['apples', 'Pineapple', 'Pineapple', 'oranges', 'bananas', 'strawberry', 'strawberry', 'strawberry', 'strawberry']\n",
      "['Pineapple', 'Pineapple', 'oranges', 'bananas', 'strawberry', 'strawberry', 'strawberry', 'strawberry']\n"
     ]
    }
   ],
   "source": [
    "Fruits.append (\"strawberry\")\n",
    "print (Fruits)\n",
    "fruitList=Fruits\n",
    "print (fruitList)\n",
    "Fruits.insert(1,\"Pineapple\")\n",
    "print(fruitList)\n",
    "Fruits.remove(Fruits[0])\n",
    "print(fruitList)\n"
   ]
  },
  {
   "cell_type": "code",
   "execution_count": null,
   "metadata": {},
   "outputs": [
    {
     "name": "stdout",
     "output_type": "stream",
     "text": [
      "['Pineapple', 'apples', 'oranges', 'bananas', 'strawberry']\n"
     ]
    }
   ],
   "source": [
    "\n",
    "Fruits.insert(1,\"apples\")\n",
    "print (Fruits)\n",
    "\n"
   ]
  },
  {
   "cell_type": "code",
   "execution_count": 21,
   "metadata": {},
   "outputs": [
    {
     "name": "stdout",
     "output_type": "stream",
     "text": [
      "['Pineapple', 'apples', 'oranges', 'bananas']\n",
      "['Pineapple', 'apples', 'oranges']\n"
     ]
    }
   ],
   "source": [
    "\n",
    "print (Fruits)\n",
    "favoritfruits=Fruits[0:3]\n",
    "print(favoritfruits)"
   ]
  },
  {
   "cell_type": "code",
   "execution_count": 23,
   "metadata": {},
   "outputs": [
    {
     "name": "stdout",
     "output_type": "stream",
     "text": [
      "['Pineapple', 'apples', 'oranges', 'bananas', 'Avocado', 'Avocado']\n"
     ]
    }
   ],
   "source": [
    "Fruits.append(\"Avocado\")\n",
    "print(Fruits)"
   ]
  }
 ],
 "metadata": {
  "kernelspec": {
   "display_name": "base",
   "language": "python",
   "name": "python3"
  },
  "language_info": {
   "codemirror_mode": {
    "name": "ipython",
    "version": 3
   },
   "file_extension": ".py",
   "mimetype": "text/x-python",
   "name": "python",
   "nbconvert_exporter": "python",
   "pygments_lexer": "ipython3",
   "version": "3.12.7"
  }
 },
 "nbformat": 4,
 "nbformat_minor": 2
}
